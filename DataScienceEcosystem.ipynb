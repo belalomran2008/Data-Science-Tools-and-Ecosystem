{
  "nbformat": 4,
  "nbformat_minor": 0,
  "metadata": {
    "colab": {
      "provenance": []
    },
    "kernelspec": {
      "name": "python3",
      "display_name": "Python 3"
    },
    "language_info": {
      "name": "python"
    }
  },
  "cells": [
    {
      "cell_type": "markdown",
      "source": [
        "\n",
        "## Data Science Tools and Ecosystem\n",
        "\n"
      ],
      "metadata": {
        "id": "O5OMnbNCsPQ2"
      }
    },
    {
      "cell_type": "markdown",
      "source": [
        "In this notebook, Data Science Tools and Ecosystem are summarized.\n"
      ],
      "metadata": {
        "id": "RcdoEci5spFa"
      }
    },
    {
      "cell_type": "markdown",
      "source": [
        "**Objectives: **\n",
        "\n",
        "\n",
        "*   Popular languages for data science\n",
        "*   Commonly used libraries for data science\n",
        "*   Data science tools\n",
        "\n"
      ],
      "metadata": {
        "id": "UCRol_fhu3c4"
      }
    },
    {
      "cell_type": "markdown",
      "source": [
        "Some of the popular languages that Data Scientists use are:\n",
        "\n",
        "\n",
        "1.   SQL\n",
        "2.   Python\n",
        "3.   R\n",
        "\n",
        "\n",
        "\n"
      ],
      "metadata": {
        "id": "3SnoHf0hs4lq"
      }
    },
    {
      "cell_type": "markdown",
      "source": [
        "Some of the commonly used libraries used by Data Scientists include:\n",
        "\n",
        "\n",
        "1.   Scikit-learn\n",
        "2.   Tensorflow\n",
        "3.   Pytorch\n",
        "\n"
      ],
      "metadata": {
        "id": "TJ7SJHQ0tOyf"
      }
    },
    {
      "cell_type": "markdown",
      "source": [
        "| Data Science Tools        |\n",
        "|---------------------------|\n",
        "| Jupyter Notebook          |\n",
        "| RStudio                   |\n",
        "| Apache Zeppelin           |\n"
      ],
      "metadata": {
        "id": "J1QGTwZnt1Nf"
      }
    },
    {
      "cell_type": "markdown",
      "source": [
        "### Below are a few examples of evaluating arithmetic expressions in Python.\n"
      ],
      "metadata": {
        "id": "KsW7I4HzuGtL"
      }
    },
    {
      "cell_type": "code",
      "execution_count": 1,
      "metadata": {
        "colab": {
          "base_uri": "https://localhost:8080/"
        },
        "id": "y9yLf8eNr4iG",
        "outputId": "ef57bbb8-0322-4f75-dccc-82da0fc384c2"
      },
      "outputs": [
        {
          "output_type": "execute_result",
          "data": {
            "text/plain": [
              "17"
            ]
          },
          "metadata": {},
          "execution_count": 1
        }
      ],
      "source": [
        "# This a simple arithmetic expression to mutiply then add integers\n",
        "(3*4)+5"
      ]
    },
    {
      "cell_type": "code",
      "source": [
        "# This will convert 200 minutes to hours by diving by 60\n",
        "200/6"
      ],
      "metadata": {
        "colab": {
          "base_uri": "https://localhost:8080/"
        },
        "id": "bGkJzRWcuWNW",
        "outputId": "eaadaf70-0dc4-455e-be54-8f1ccf14f782"
      },
      "execution_count": 2,
      "outputs": [
        {
          "output_type": "execute_result",
          "data": {
            "text/plain": [
              "33.333333333333336"
            ]
          },
          "metadata": {},
          "execution_count": 2
        }
      ]
    },
    {
      "cell_type": "markdown",
      "source": [
        "## Author\n",
        "Belal"
      ],
      "metadata": {
        "id": "8dyihIirveXi"
      }
    }
  ]
}